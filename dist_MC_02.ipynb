{
 "cells": [
  {
   "cell_type": "code",
   "execution_count": 1698,
   "metadata": {},
   "outputs": [
    {
     "ename": "SyntaxError",
     "evalue": "invalid syntax (<ipython-input-1698-d63479fb036f>, line 20)",
     "output_type": "error",
     "traceback": [
      "\u001b[1;36m  File \u001b[1;32m\"<ipython-input-1698-d63479fb036f>\"\u001b[1;36m, line \u001b[1;32m20\u001b[0m\n\u001b[1;33m    N = 10 000                # random numbers to generate\u001b[0m\n\u001b[1;37m           ^\u001b[0m\n\u001b[1;31mSyntaxError\u001b[0m\u001b[1;31m:\u001b[0m invalid syntax\n"
     ]
    }
   ],
   "source": [
    "%matplotlib inline\n",
    "\n",
    "import pandas as pd\n",
    "import numpy as np\n",
    "import matplotlib.pyplot as plt\n",
    "\n",
    "\n",
    "from scipy.stats import qmc    # quasi-Monte Carlo for latin hypercube sampling\n",
    "from scipy.stats import mstats \n",
    "from scipy import stats as stats\n",
    "from scipy.stats import rv_continuous\n",
    "import scipy.optimize as opt\n",
    "\n",
    "from scipy.stats import norm, weibull_min, beta\n",
    "\n",
    "\n",
    "import warnings\n",
    "warnings.filterwarnings(\"ignore\")\n",
    "\n",
    "N = 10 000                # random numbers to generate\n"
   ]
  },
  {
   "cell_type": "code",
   "execution_count": null,
   "metadata": {},
   "outputs": [
    {
     "name": "stdout",
     "output_type": "stream",
     "text": [
      "<class 'scipy.stats._qmc.LatinHypercube'>\n"
     ]
    },
    {
     "data": {
      "text/plain": [
       "array([[0.7226044 ],\n",
       "       [0.05611216],\n",
       "       [0.41414021],\n",
       "       [0.2302632 ],\n",
       "       [0.39058227],\n",
       "       [0.50243776],\n",
       "       [0.12388603],\n",
       "       [0.82139357],\n",
       "       [0.68718864],\n",
       "       [0.95496141]])"
      ]
     },
     "execution_count": 1679,
     "metadata": {},
     "output_type": "execute_result"
    }
   ],
   "source": [
    "# Latin Hypercube LHS sampling of uniform random numbers\n",
    "\n",
    "sampler = qmc.LatinHypercube(d=1, seed=42)    # d = dimension\n",
    "sample = sampler.random(n=10)\n",
    "print(type(sampler))\n",
    "sample"
   ]
  },
  {
   "cell_type": "code",
   "execution_count": null,
   "metadata": {},
   "outputs": [
    {
     "data": {
      "text/plain": [
       "0.001761364104473806"
      ]
     },
     "execution_count": 1680,
     "metadata": {},
     "output_type": "execute_result"
    }
   ],
   "source": [
    "# quality of sample\n",
    "qmc.discrepancy(sample)"
   ]
  },
  {
   "cell_type": "code",
   "execution_count": null,
   "metadata": {},
   "outputs": [
    {
     "name": "stdout",
     "output_type": "stream",
     "text": [
      "<class 'numpy.ndarray'>\n"
     ]
    },
    {
     "data": {
      "text/plain": [
       "array([[72.26043951],\n",
       "       [ 5.6112156 ],\n",
       "       [41.4140208 ],\n",
       "       [23.02631971],\n",
       "       [39.05822652],\n",
       "       [50.24377648],\n",
       "       [12.38860298],\n",
       "       [82.13935695],\n",
       "       [68.71886367],\n",
       "       [95.49614062]])"
      ]
     },
     "execution_count": 1681,
     "metadata": {},
     "output_type": "execute_result"
    }
   ],
   "source": [
    "# samples can be rescaled to fit between the defined bounds\n",
    "seq = qmc.scale(sample, 0, 100)\n",
    "print(type(seq))\n",
    "seq"
   ]
  },
  {
   "cell_type": "code",
   "execution_count": null,
   "metadata": {},
   "outputs": [],
   "source": [
    "# define a new class pertm_gen: a generator for the PERT distribution\n",
    "\n",
    "class pertm_gen(rv_continuous):\n",
    "    '''modified beta_PERT distribution'''\n",
    "\n",
    " \n",
    "    def _shape(self, min, mode, max, lmb):\n",
    "        s_alpha = 1+ lmb*(mode - min)/(max-min)\n",
    "        s_beta = 1 + lmb*(max - mode)/(max-min)\n",
    "        return [s_alpha, s_beta]\n",
    "\n",
    "\n",
    "    def _cdf(self, x, min, mode, max, lmb):\n",
    "        s_alpha, s_beta = self._shape(min, mode, max, lmb)\n",
    "        z = (x - min) / (max - min)\n",
    "        cdf = beta.cdf(z, s_alpha, s_beta)\n",
    "        return cdf\n",
    "\n",
    "    def _ppf(self, p, min, mode, max, lmb):\n",
    "        s_alpha, s_beta = self._shape(min, mode, max, lmb)\n",
    "        ppf = beta.ppf(p, s_alpha, s_beta)\n",
    "        ppf = ppf * (max - min) + min\n",
    "        return ppf\n",
    "\n",
    "\n",
    "    def _mean(self, min, mode, max, lmb):\n",
    "        mean = (min + lmb * mode + max) / (2 + lmb)\n",
    "        return mean\n",
    "\n",
    "    def _var(self, min, mode, max, lmb):\n",
    "        mean = self._mean(min, mode, max, lmb)\n",
    "        var = (mean - min) * (max - mean) / (lmb + 3)\n",
    "        return var\n",
    "\n",
    "    def _skew(self, min, mode, max, lmb):\n",
    "        mean = self._mean(min, mode, max, lmb)\n",
    "        skew1 = (min + max - 2*mean) / 4\n",
    "        skew2 = (mean - min) * (max  - mean)\n",
    "        skew2 = np.sqrt(7 / skew2)\n",
    "        skew = skew1 * skew2\n",
    "        return skew\n",
    "\n",
    "    def _kurt(self, min, mode, max, lmb):\n",
    "        a1,a2 = self._shape(min, mode, max, lmb)\n",
    "        kurt1 = a1 + a2 +1\n",
    "        kurt2 = 2 * (a1 + a2)**2\n",
    "        kurt3 = a1 * a2 * (a1 + a2 - 6)\n",
    "        kurt4 = a1 * a2 * (a1 + a2 + 2) * (a1 + a2 + 3)\n",
    "        kurt5 = 3 * kurt1 * (kurt2 + kurt3)\n",
    "        kurt = kurt5 / kurt4 -  3                 # scipy defines kurtosis of std normal distribution as 0 instead of 3\n",
    "        return kurt\n",
    "\n",
    "    def _stats(self, min, mode, max, lmb):\n",
    "        mean = self._mean(min, mode, max, lmb)\n",
    "        var = self._var(min, mode, max, lmb)\n",
    "        skew = self._skew(min, mode, max, lmb)\n",
    "        kurt = self._kurt(min, mode, max, lmb)\n",
    "        return mean, var, skew, kurt\n"
   ]
  },
  {
   "cell_type": "code",
   "execution_count": null,
   "metadata": {},
   "outputs": [
    {
     "name": "stdout",
     "output_type": "stream",
     "text": [
      "mean : 21.67\n",
      "var : 30.56\n",
      "skew : 0.30\n",
      "kurt : -0.55\n"
     ]
    }
   ],
   "source": [
    "# create a PERT instance \n",
    "min, mode, max, lmb = 10.0,20.0,40.0,4.0\n",
    "\n",
    "# instantiate a PERT object\n",
    "pertm = pertm_gen(name=\"pertm\")\n",
    "rvP = pertm(min,mode,max,lmb)\n",
    "\n",
    "statsP = rvP.stats(\"mvsk\")\n",
    "\n",
    "moments = [np.asscalar(v) for v in statsP]\n",
    "moment_names = [\"mean\", \"var\", \"skew\", \"kurt\"]\n",
    "dict_moments = dict(zip(moment_names, moments))\n",
    "_ = [print(k,\":\",f'{v:.2f}') for k,v in dict_moments.items()]"
   ]
  },
  {
   "cell_type": "code",
   "execution_count": null,
   "metadata": {},
   "outputs": [
    {
     "name": "stderr",
     "output_type": "stream",
     "text": [
      "No handles with labels found to put in legend.\n"
     ]
    },
    {
     "data": {
      "image/png": "[encoded data removed]",
      "text/plain": [
       "<Figure size 432x288 with 1 Axes>"
      ]
     },
     "metadata": {
      "needs_background": "light"
     },
     "output_type": "display_data"
    }
   ],
   "source": [
    "# PERT random variates with LHS\n",
    "\n",
    "sampler01 = qmc.LatinHypercube(d=1, seed=42)    # d = dimension\n",
    "sample01 = sampler01.random(n=N)\n",
    "\n",
    "randP = rvP.ppf(sample01)\n",
    "\n",
    "fig, ax = plt.subplots(1, 1)\n",
    "ax.hist(randP, density=True, histtype='stepfilled', alpha=0.2)\n",
    "ax.legend(loc='best', frameon=False)\n",
    "plt.show()\n",
    "pass\n"
   ]
  },
  {
   "cell_type": "code",
   "execution_count": null,
   "metadata": {},
   "outputs": [
    {
     "name": "stderr",
     "output_type": "stream",
     "text": [
      "No handles with labels found to put in legend.\n"
     ]
    },
    {
     "data": {
      "image/png": "[encoded data removed]",
      "text/plain": [
       "<Figure size 432x288 with 1 Axes>"
      ]
     },
     "metadata": {
      "needs_background": "light"
     },
     "output_type": "display_data"
    }
   ],
   "source": [
    "# Normal random variates with LHS\n",
    "\n",
    "sampler02 = qmc.LatinHypercube(d=1, seed=42)    # d = dimension\n",
    "sample02 = sampler02.random(n=N)\n",
    "\n",
    "m, s = 20, 10\n",
    "rvN = norm(m,s)\n",
    "randN = rvN.ppf(sample02)\n",
    "\n",
    "fig, ax = plt.subplots(1, 1)\n",
    "ax.hist(randN, density=True, histtype='stepfilled', alpha=0.2)\n",
    "ax.legend(loc='best', frameon=False)\n",
    "plt.show()\n",
    "pass\n"
   ]
  },
  {
   "cell_type": "code",
   "execution_count": null,
   "metadata": {},
   "outputs": [
    {
     "name": "stderr",
     "output_type": "stream",
     "text": [
      "No handles with labels found to put in legend.\n"
     ]
    },
    {
     "data": {
      "image/png": "[encoded data removed]",
      "text/plain": [
       "<Figure size 432x288 with 1 Axes>"
      ]
     },
     "metadata": {
      "needs_background": "light"
     },
     "output_type": "display_data"
    }
   ],
   "source": [
    "# Weibull_Min random variates with LHS\n",
    "\n",
    "sampler03 = qmc.LatinHypercube(d=1, seed=42)    # d = dimension\n",
    "sample03 = sampler03.random(n=N)\n",
    "\n",
    "shp, loc, scl = 1.5, 0, 50000\n",
    "rvW = weibull_min(shp, loc, scl)\n",
    "randW = rvW.ppf(sample03)\n",
    "\n",
    "fig, ax = plt.subplots(1, 1)\n",
    "ax.hist(randW, density=True, histtype='stepfilled', alpha=0.2)\n",
    "ax.legend(loc='best', frameon=False)\n",
    "plt.show()\n",
    "pass\n"
   ]
  },
  {
   "cell_type": "code",
   "execution_count": null,
   "metadata": {},
   "outputs": [
    {
     "name": "stdout",
     "output_type": "stream",
     "text": [
      "<class 'numpy.ndarray'>\n"
     ]
    }
   ],
   "source": [
    "print(type(randW))"
   ]
  },
  {
   "cell_type": "code",
   "execution_count": null,
   "metadata": {},
   "outputs": [],
   "source": [
    "# generate 1000 normal random variates \n",
    "\n",
    "def wei_shp(mean,std):\n",
    "    sampler = qmc.LatinHypercube(d=1, seed=42)    # d = dimension\n",
    "    sample = sampler.random(n=N)\n",
    "\n",
    "    rv = norm(mean, std)\n",
    "    rand = rv.ppf(sample)\n",
    "    return rand"
   ]
  },
  {
   "cell_type": "code",
   "execution_count": null,
   "metadata": {},
   "outputs": [],
   "source": [
    "# generate 1000 PERT random numbers\n",
    "\n",
    "def wei_charlife(min,mode,max,lmb):\n",
    "    sampler = qmc.LatinHypercube(d=1, seed=42)    # d = dimension\n",
    "    sample = sampler.random(n=N)\n",
    " \n",
    "    pertm = pertm_gen(name=\"pertm\")\n",
    "    rv = pertm(min, mode, max, lmb)\n",
    "    rand = rv.ppf(sample)\n",
    "    return rand\n",
    "    "
   ]
  },
  {
   "cell_type": "code",
   "execution_count": null,
   "metadata": {},
   "outputs": [
    {
     "name": "stderr",
     "output_type": "stream",
     "text": [
      "No handles with labels found to put in legend.\n"
     ]
    },
    {
     "data": {
      "image/png": "[encoded data removed]",
      "text/plain": [
       "<Figure size 432x288 with 1 Axes>"
      ]
     },
     "metadata": {
      "needs_background": "light"
     },
     "output_type": "display_data"
    }
   ],
   "source": [
    "# Weibull_Min random variates with LHS\n",
    "\n",
    "sampler04 = qmc.LatinHypercube(d=1, seed=42)    # d = dimension\n",
    "sample04 = sampler04.random(n=N)\n",
    "\n",
    "shp_m, shp_s = 1.5, 0.1   # weibull shape is normally distributed with mean m and std deviation s\n",
    "loc = 0.0\n",
    "scl_min, scl_mode, scl_max, scl_lmb = 45000, 50000, 60000, 8.0     # the weibull characteristic life is PERT-distributed\n",
    "\n",
    "rand_CL = weibull_min.ppf(sample04, wei_shp(shp_m, shp_s), loc, wei_charlife(scl_min, scl_mode, scl_max, scl_lmb))\n",
    "\n",
    "\n",
    "fig, ax = plt.subplots(1, 1)\n",
    "ax.hist(rand_CL, density=True, histtype='stepfilled', alpha=0.2)\n",
    "ax.legend(loc='best', frameon=False)\n",
    "plt.show()\n",
    "pass\n"
   ]
  },
  {
   "cell_type": "code",
   "execution_count": null,
   "metadata": {},
   "outputs": [],
   "source": [
    "def dist_properties(data):\n",
    "\n",
    "    # moments\n",
    "    mean = data.mean()\n",
    "    s = data.std()\n",
    "    min = data.min()\n",
    "    max = data.max()\n",
    "    skew = np.asscalar(stats.skew(data))\n",
    "    kurt = np.asscalar(stats.kurtosis(data))\n",
    "\n",
    "    moment_names = [\"mean\", \"std\", \"min\", \"max\", \"skew\", \"kurt\"]\n",
    "    moments = [mean,s,min,max,skew,kurt]\n",
    "    dict_moments = dict(zip(moment_names, moments))\n",
    "    _ = [print(k,\":\",f'{v:.3f}') for k,v in dict_moments.items()]\n",
    "\n",
    "\n",
    "    # quantiles\n",
    "    q1 = np.array([0.001, 0.01, 0.99, 0.999])\n",
    "    q2 = np.arange(0.05, 0.95, 0.05)\n",
    "    q = np.concatenate((q1,q2))\n",
    "    q.sort()\n",
    "    xq = np.quantile(data, q)\n",
    "    \n",
    "    qstr = [str(f'{v:.3f}') for v in q]\n",
    "    dict_quantiles = dict(zip(qstr, xq))\n",
    "    print(\"\\nquantiles:\")\n",
    "    _ = [print(q,\":\",f'{xq:,.0f}') for q,xq in dict_quantiles.items()]\n",
    "\n",
    "\n",
    "    # moments & quantiles\n",
    "    metric_names = moment_names.extend(q)\n",
    "    metrics = moments.extend(xq)\n",
    "    dict_metrics = {**dict_moments, **dict_quantiles}\n",
    "    return dict_metrics\n"
   ]
  },
  {
   "cell_type": "code",
   "execution_count": null,
   "metadata": {},
   "outputs": [
    {
     "name": "stdout",
     "output_type": "stream",
     "text": [
      "mean : 45149.272\n",
      "std : 30693.795\n",
      "min : 101.349\n",
      "max : 207072.532\n",
      "skew : 1.086\n",
      "kurt : 1.480\n",
      "\n",
      "quantiles:\n",
      "0.001 : 590\n",
      "0.010 : 2,381\n",
      "0.050 : 6,941\n",
      "0.100 : 11,194\n",
      "0.150 : 14,909\n",
      "0.200 : 18,418\n",
      "0.250 : 21,821\n",
      "0.300 : 25,166\n",
      "0.350 : 28,553\n",
      "0.400 : 31,986\n",
      "0.450 : 35,500\n",
      "0.500 : 39,134\n",
      "0.550 : 43,056\n",
      "0.600 : 47,198\n",
      "0.650 : 51,653\n",
      "0.700 : 56,573\n",
      "0.750 : 62,092\n",
      "0.800 : 68,667\n",
      "0.850 : 76,628\n",
      "0.900 : 87,166\n",
      "0.990 : 137,958\n",
      "0.999 : 176,206\n",
      "mean : 45162.291\n",
      "std : 31294.437\n",
      "min : 73.055\n",
      "max : 171545.709\n",
      "skew : 0.866\n",
      "kurt : 0.464\n",
      "\n",
      "quantiles:\n",
      "0.001 : 185\n",
      "0.010 : 1,333\n",
      "0.050 : 5,119\n",
      "0.100 : 9,270\n",
      "0.150 : 13,156\n",
      "0.200 : 16,871\n",
      "0.250 : 20,496\n",
      "0.300 : 24,155\n",
      "0.350 : 27,817\n",
      "0.400 : 31,577\n",
      "0.450 : 35,413\n",
      "0.500 : 39,472\n",
      "0.550 : 43,676\n",
      "0.600 : 48,108\n",
      "0.650 : 52,922\n",
      "0.700 : 58,119\n",
      "0.750 : 63,998\n",
      "0.800 : 70,685\n",
      "0.850 : 78,732\n",
      "0.900 : 89,027\n",
      "0.990 : 133,709\n",
      "0.999 : 160,356\n",
      "\n",
      "Compare the Weibull with fixed parameters and the Weibull with stochastic parameters:\n"
     ]
    },
    {
     "data": {
      "text/html": [
       "<div>\n",
       "<style scoped>\n",
       "    .dataframe tbody tr th:only-of-type {\n",
       "        vertical-align: middle;\n",
       "    }\n",
       "\n",
       "    .dataframe tbody tr th {\n",
       "        vertical-align: top;\n",
       "    }\n",
       "\n",
       "    .dataframe thead th {\n",
       "        text-align: right;\n",
       "    }\n",
       "</style>\n",
       "<table border=\"1\" class=\"dataframe\">\n",
       "  <thead>\n",
       "    <tr style=\"text-align: right;\">\n",
       "      <th></th>\n",
       "      <th>metrics</th>\n",
       "      <th>fix Weibull</th>\n",
       "      <th>flex Weibull</th>\n",
       "    </tr>\n",
       "  </thead>\n",
       "  <tbody>\n",
       "    <tr>\n",
       "      <th>0</th>\n",
       "      <td>mean</td>\n",
       "      <td>45,149.272</td>\n",
       "      <td>45,162.291</td>\n",
       "    </tr>\n",
       "    <tr>\n",
       "      <th>1</th>\n",
       "      <td>std</td>\n",
       "      <td>30,693.795</td>\n",
       "      <td>31,294.437</td>\n",
       "    </tr>\n",
       "    <tr>\n",
       "      <th>2</th>\n",
       "      <td>min</td>\n",
       "      <td>101.349</td>\n",
       "      <td>73.055</td>\n",
       "    </tr>\n",
       "    <tr>\n",
       "      <th>3</th>\n",
       "      <td>max</td>\n",
       "      <td>207,072.532</td>\n",
       "      <td>171,545.709</td>\n",
       "    </tr>\n",
       "    <tr>\n",
       "      <th>4</th>\n",
       "      <td>skew</td>\n",
       "      <td>1.086</td>\n",
       "      <td>0.866</td>\n",
       "    </tr>\n",
       "    <tr>\n",
       "      <th>5</th>\n",
       "      <td>kurt</td>\n",
       "      <td>1.480</td>\n",
       "      <td>0.464</td>\n",
       "    </tr>\n",
       "    <tr>\n",
       "      <th>6</th>\n",
       "      <td>0.001</td>\n",
       "      <td>590.213</td>\n",
       "      <td>185.289</td>\n",
       "    </tr>\n",
       "    <tr>\n",
       "      <th>7</th>\n",
       "      <td>0.010</td>\n",
       "      <td>2,381.302</td>\n",
       "      <td>1,332.540</td>\n",
       "    </tr>\n",
       "    <tr>\n",
       "      <th>8</th>\n",
       "      <td>0.050</td>\n",
       "      <td>6,941.065</td>\n",
       "      <td>5,119.375</td>\n",
       "    </tr>\n",
       "    <tr>\n",
       "      <th>9</th>\n",
       "      <td>0.100</td>\n",
       "      <td>11,193.631</td>\n",
       "      <td>9,269.786</td>\n",
       "    </tr>\n",
       "    <tr>\n",
       "      <th>10</th>\n",
       "      <td>0.150</td>\n",
       "      <td>14,908.660</td>\n",
       "      <td>13,156.014</td>\n",
       "    </tr>\n",
       "    <tr>\n",
       "      <th>11</th>\n",
       "      <td>0.200</td>\n",
       "      <td>18,417.928</td>\n",
       "      <td>16,870.644</td>\n",
       "    </tr>\n",
       "    <tr>\n",
       "      <th>12</th>\n",
       "      <td>0.250</td>\n",
       "      <td>21,821.495</td>\n",
       "      <td>20,496.375</td>\n",
       "    </tr>\n",
       "    <tr>\n",
       "      <th>13</th>\n",
       "      <td>0.300</td>\n",
       "      <td>25,166.414</td>\n",
       "      <td>24,154.584</td>\n",
       "    </tr>\n",
       "    <tr>\n",
       "      <th>14</th>\n",
       "      <td>0.350</td>\n",
       "      <td>28,552.577</td>\n",
       "      <td>27,816.969</td>\n",
       "    </tr>\n",
       "    <tr>\n",
       "      <th>15</th>\n",
       "      <td>0.400</td>\n",
       "      <td>31,986.416</td>\n",
       "      <td>31,577.053</td>\n",
       "    </tr>\n",
       "    <tr>\n",
       "      <th>16</th>\n",
       "      <td>0.450</td>\n",
       "      <td>35,500.230</td>\n",
       "      <td>35,413.300</td>\n",
       "    </tr>\n",
       "    <tr>\n",
       "      <th>17</th>\n",
       "      <td>0.500</td>\n",
       "      <td>39,134.075</td>\n",
       "      <td>39,471.697</td>\n",
       "    </tr>\n",
       "    <tr>\n",
       "      <th>18</th>\n",
       "      <td>0.550</td>\n",
       "      <td>43,055.931</td>\n",
       "      <td>43,676.225</td>\n",
       "    </tr>\n",
       "    <tr>\n",
       "      <th>19</th>\n",
       "      <td>0.600</td>\n",
       "      <td>47,198.498</td>\n",
       "      <td>48,107.759</td>\n",
       "    </tr>\n",
       "    <tr>\n",
       "      <th>20</th>\n",
       "      <td>0.650</td>\n",
       "      <td>51,652.808</td>\n",
       "      <td>52,921.927</td>\n",
       "    </tr>\n",
       "    <tr>\n",
       "      <th>21</th>\n",
       "      <td>0.700</td>\n",
       "      <td>56,573.268</td>\n",
       "      <td>58,118.845</td>\n",
       "    </tr>\n",
       "    <tr>\n",
       "      <th>22</th>\n",
       "      <td>0.750</td>\n",
       "      <td>62,092.197</td>\n",
       "      <td>63,998.185</td>\n",
       "    </tr>\n",
       "    <tr>\n",
       "      <th>23</th>\n",
       "      <td>0.800</td>\n",
       "      <td>68,667.339</td>\n",
       "      <td>70,685.467</td>\n",
       "    </tr>\n",
       "    <tr>\n",
       "      <th>24</th>\n",
       "      <td>0.850</td>\n",
       "      <td>76,628.388</td>\n",
       "      <td>78,731.772</td>\n",
       "    </tr>\n",
       "    <tr>\n",
       "      <th>25</th>\n",
       "      <td>0.900</td>\n",
       "      <td>87,166.438</td>\n",
       "      <td>89,026.746</td>\n",
       "    </tr>\n",
       "    <tr>\n",
       "      <th>26</th>\n",
       "      <td>0.990</td>\n",
       "      <td>137,957.810</td>\n",
       "      <td>133,708.828</td>\n",
       "    </tr>\n",
       "    <tr>\n",
       "      <th>27</th>\n",
       "      <td>0.999</td>\n",
       "      <td>176,206.436</td>\n",
       "      <td>160,356.121</td>\n",
       "    </tr>\n",
       "  </tbody>\n",
       "</table>\n",
       "</div>"
      ],
      "text/plain": [
       "   metrics  fix Weibull  flex Weibull\n",
       "0     mean   45,149.272    45,162.291\n",
       "1      std   30,693.795    31,294.437\n",
       "2      min      101.349        73.055\n",
       "3      max  207,072.532   171,545.709\n",
       "4     skew        1.086         0.866\n",
       "5     kurt        1.480         0.464\n",
       "6    0.001      590.213       185.289\n",
       "7    0.010    2,381.302     1,332.540\n",
       "8    0.050    6,941.065     5,119.375\n",
       "9    0.100   11,193.631     9,269.786\n",
       "10   0.150   14,908.660    13,156.014\n",
       "11   0.200   18,417.928    16,870.644\n",
       "12   0.250   21,821.495    20,496.375\n",
       "13   0.300   25,166.414    24,154.584\n",
       "14   0.350   28,552.577    27,816.969\n",
       "15   0.400   31,986.416    31,577.053\n",
       "16   0.450   35,500.230    35,413.300\n",
       "17   0.500   39,134.075    39,471.697\n",
       "18   0.550   43,055.931    43,676.225\n",
       "19   0.600   47,198.498    48,107.759\n",
       "20   0.650   51,652.808    52,921.927\n",
       "21   0.700   56,573.268    58,118.845\n",
       "22   0.750   62,092.197    63,998.185\n",
       "23   0.800   68,667.339    70,685.467\n",
       "24   0.850   76,628.388    78,731.772\n",
       "25   0.900   87,166.438    89,026.746\n",
       "26   0.990  137,957.810   133,708.828\n",
       "27   0.999  176,206.436   160,356.121"
      ]
     },
     "execution_count": 1692,
     "metadata": {},
     "output_type": "execute_result"
    }
   ],
   "source": [
    "# properties of the simulation results\n",
    "\n",
    "fixWeib = dist_properties(randW)\n",
    "flexWeib = dist_properties(rand_CL)\n",
    "\n",
    "print(\"\\nCompare the Weibull with fixed parameters and the Weibull with stochastic parameters:\")\n",
    "pd.options.display.float_format = '{:,.3f}'.format\n",
    "df = pd.DataFrame(index=range(len(fixWeib)))\n",
    "df[\"metrics\"] = fixWeib.keys()\n",
    "df[\"fix Weibull\"] = fixWeib.values()\n",
    "df[\"flex Weibull\"] = flexWeib.values()\n",
    "df\n"
   ]
  }
 ],
 "metadata": {
  "interpreter": {
   "hash": "b70fa266638dda0426a5eab4dda77c10abfc338a73007e59a14299ee06b27f88"
  },
  "kernelspec": {
   "display_name": "Python 3.8.5 64-bit ('ho03': conda)",
   "name": "python3"
  },
  "language_info": {
   "codemirror_mode": {
    "name": "ipython",
    "version": 3
   },
   "file_extension": ".py",
   "mimetype": "text/x-python",
   "name": "python",
   "nbconvert_exporter": "python",
   "pygments_lexer": "ipython3",
   "version": "3.8.5"
  },
  "orig_nbformat": 4
 },
 "nbformat": 4,
 "nbformat_minor": 2
}
