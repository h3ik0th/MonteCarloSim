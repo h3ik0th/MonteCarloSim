{
 "cells": [
  {
   "cell_type": "code",
   "execution_count": 978,
   "metadata": {},
   "outputs": [],
   "source": [
    "%matplotlib inline\n",
    "\n",
    "import pandas as pd\n",
    "import numpy as np\n",
    "import matplotlib.pyplot as plt\n",
    "\n",
    "\n",
    "from scipy.stats import qmc    # quasi-Monte Carlo for latin hypercube sampling\n",
    "from scipy.stats import mstats \n",
    "from scipy import stats as stats\n",
    "from scipy.stats import rv_continuous, rv_histogram\n",
    "import scipy.optimize as opt\n",
    "\n",
    "from scipy.stats import norm, weibull_min, beta\n",
    "\n",
    "\n",
    "import warnings\n",
    "warnings.filterwarnings(\"ignore\")\n",
    "\n",
    "\n",
    "N = 10000                # random numbers to generate"
   ]
  },
  {
   "cell_type": "markdown",
   "metadata": {},
   "source": [
    "# Drawing Random Variates"
   ]
  },
  {
   "cell_type": "markdown",
   "metadata": {},
   "source": [
    "## Latin Hypercube Sampling"
   ]
  },
  {
   "cell_type": "code",
   "execution_count": 979,
   "metadata": {},
   "outputs": [
    {
     "name": "stdout",
     "output_type": "stream",
     "text": [
      "<class 'scipy.stats._qmc.LatinHypercube'>\n"
     ]
    },
    {
     "data": {
      "text/plain": [
       "array([[0.7226044 ],\n",
       "       [0.05611216],\n",
       "       [0.41414021],\n",
       "       [0.2302632 ],\n",
       "       [0.39058227],\n",
       "       [0.50243776],\n",
       "       [0.12388603],\n",
       "       [0.82139357],\n",
       "       [0.68718864],\n",
       "       [0.95496141]])"
      ]
     },
     "execution_count": 979,
     "metadata": {},
     "output_type": "execute_result"
    }
   ],
   "source": [
    "# Latin Hypercube LHS sampling of uniform random numbers\n",
    "\n",
    "sampler = qmc.LatinHypercube(d=1, seed=42)    # d = dimension\n",
    "sample = sampler.random(n=10)\n",
    "print(type(sampler))\n",
    "sample"
   ]
  },
  {
   "cell_type": "code",
   "execution_count": 980,
   "metadata": {},
   "outputs": [
    {
     "data": {
      "text/plain": [
       "0.001761364104473806"
      ]
     },
     "execution_count": 980,
     "metadata": {},
     "output_type": "execute_result"
    }
   ],
   "source": [
    "# quality of sample\n",
    "qmc.discrepancy(sample)"
   ]
  },
  {
   "cell_type": "code",
   "execution_count": 981,
   "metadata": {},
   "outputs": [
    {
     "name": "stdout",
     "output_type": "stream",
     "text": [
      "<class 'numpy.ndarray'>\n"
     ]
    },
    {
     "data": {
      "text/plain": [
       "array([[72.26043951],\n",
       "       [ 5.6112156 ],\n",
       "       [41.4140208 ],\n",
       "       [23.02631971],\n",
       "       [39.05822652],\n",
       "       [50.24377648],\n",
       "       [12.38860298],\n",
       "       [82.13935695],\n",
       "       [68.71886367],\n",
       "       [95.49614062]])"
      ]
     },
     "execution_count": 981,
     "metadata": {},
     "output_type": "execute_result"
    }
   ],
   "source": [
    "# samples can be rescaled to fit between the defined bounds\n",
    "seq = qmc.scale(sample, 0, 100)\n",
    "print(type(seq))\n",
    "seq"
   ]
  },
  {
   "cell_type": "markdown",
   "metadata": {},
   "source": [
    "## PERT random variates"
   ]
  },
  {
   "cell_type": "code",
   "execution_count": 982,
   "metadata": {},
   "outputs": [],
   "source": [
    "# define a new class pertm_gen: a generator for the PERT distribution\n",
    "\n",
    "class pertm_gen(rv_continuous):\n",
    "    '''modified beta_PERT distribution'''\n",
    "\n",
    " \n",
    "    def _shape(self, min, mode, max, lmb):\n",
    "        s_alpha = 1+ lmb*(mode - min)/(max-min)\n",
    "        s_beta = 1 + lmb*(max - mode)/(max-min)\n",
    "        return [s_alpha, s_beta]\n",
    "\n",
    "\n",
    "    def _cdf(self, x, min, mode, max, lmb):\n",
    "        s_alpha, s_beta = self._shape(min, mode, max, lmb)\n",
    "        z = (x - min) / (max - min)\n",
    "        cdf = beta.cdf(z, s_alpha, s_beta)\n",
    "        return cdf\n",
    "\n",
    "    def _ppf(self, p, min, mode, max, lmb):\n",
    "        s_alpha, s_beta = self._shape(min, mode, max, lmb)\n",
    "        ppf = beta.ppf(p, s_alpha, s_beta)\n",
    "        ppf = ppf * (max - min) + min\n",
    "        return ppf\n",
    "\n",
    "\n",
    "    def _mean(self, min, mode, max, lmb):\n",
    "        mean = (min + lmb * mode + max) / (2 + lmb)\n",
    "        return mean\n",
    "\n",
    "    def _var(self, min, mode, max, lmb):\n",
    "        mean = self._mean(min, mode, max, lmb)\n",
    "        var = (mean - min) * (max - mean) / (lmb + 3)\n",
    "        return var\n",
    "\n",
    "    def _skew(self, min, mode, max, lmb):\n",
    "        mean = self._mean(min, mode, max, lmb)\n",
    "        skew1 = (min + max - 2*mean) / 4\n",
    "        skew2 = (mean - min) * (max  - mean)\n",
    "        skew2 = np.sqrt(7 / skew2)\n",
    "        skew = skew1 * skew2\n",
    "        return skew\n",
    "\n",
    "    def _kurt(self, min, mode, max, lmb):\n",
    "        a1,a2 = self._shape(min, mode, max, lmb)\n",
    "        kurt1 = a1 + a2 +1\n",
    "        kurt2 = 2 * (a1 + a2)**2\n",
    "        kurt3 = a1 * a2 * (a1 + a2 - 6)\n",
    "        kurt4 = a1 * a2 * (a1 + a2 + 2) * (a1 + a2 + 3)\n",
    "        kurt5 = 3 * kurt1 * (kurt2 + kurt3)\n",
    "        kurt = kurt5 / kurt4 -  3                 # scipy defines kurtosis of std normal distribution as 0 instead of 3\n",
    "        return kurt\n",
    "\n",
    "    def _stats(self, min, mode, max, lmb):\n",
    "        mean = self._mean(min, mode, max, lmb)\n",
    "        var = self._var(min, mode, max, lmb)\n",
    "        skew = self._skew(min, mode, max, lmb)\n",
    "        kurt = self._kurt(min, mode, max, lmb)\n",
    "        return mean, var, skew, kurt\n"
   ]
  },
  {
   "cell_type": "code",
   "execution_count": 983,
   "metadata": {},
   "outputs": [
    {
     "name": "stdout",
     "output_type": "stream",
     "text": [
      "mean : 12333.33\n",
      "var : 3507936.51\n",
      "skew : 0.18\n",
      "kurt : -0.62\n"
     ]
    }
   ],
   "source": [
    "# create a PERT instance \n",
    "# expected sales volume\n",
    "\n",
    "min, mode, max, lmb = 8000.0, 12000.0, 18000.0, 4.0\n",
    "\n",
    "\n",
    "# instantiate a PERT object\n",
    "pertm = pertm_gen(name=\"pertm\")\n",
    "rvP = pertm(min,mode,max,lmb)\n",
    "statsP = rvP.stats(\"mvsk\")\n",
    "\n",
    "moments = [np.asscalar(v) for v in statsP]\n",
    "moment_names = [\"mean\", \"var\", \"skew\", \"kurt\"]\n",
    "dict_moments = dict(zip(moment_names, moments))\n",
    "_ = [print(k,\":\",f'{v:.2f}') for k,v in dict_moments.items()]"
   ]
  },
  {
   "cell_type": "code",
   "execution_count": 984,
   "metadata": {},
   "outputs": [
    {
     "name": "stderr",
     "output_type": "stream",
     "text": [
      "No handles with labels found to put in legend.\n"
     ]
    },
    {
     "data": {
      "image/png": "[encoded data removed]",
      "text/plain": [
       "<Figure size 432x288 with 1 Axes>"
      ]
     },
     "metadata": {
      "needs_background": "light"
     },
     "output_type": "display_data"
    }
   ],
   "source": [
    "# PERT random variates with LHS\n",
    "sampler01 = qmc.LatinHypercube(d=1, seed=42)    # d = dimension\n",
    "sample01 = sampler01.random(n=N)\n",
    "randP = rvP.ppf(sample01)\n",
    "\n",
    "fig, ax = plt.subplots(1, 1)\n",
    "ax.hist(randP, density=True, histtype='stepfilled', alpha=0.2)\n",
    "ax.legend(loc='best', frameon=False)\n",
    "plt.show()\n",
    "pass\n"
   ]
  },
  {
   "cell_type": "markdown",
   "metadata": {},
   "source": [
    "## Normal random variates"
   ]
  },
  {
   "cell_type": "code",
   "execution_count": 985,
   "metadata": {},
   "outputs": [
    {
     "name": "stderr",
     "output_type": "stream",
     "text": [
      "No handles with labels found to put in legend.\n"
     ]
    },
    {
     "data": {
      "image/png": "[encoded data removed]",
      "text/plain": [
       "<Figure size 432x288 with 1 Axes>"
      ]
     },
     "metadata": {
      "needs_background": "light"
     },
     "output_type": "display_data"
    }
   ],
   "source": [
    "# normal random variates with LHS\n",
    "# selling price\n",
    "\n",
    "m1, s1 = 20.0, 2.0\n",
    "\n",
    "sampler02 = qmc.LatinHypercube(d=1, seed=43)    # d = dimension\n",
    "sample02 = sampler02.random(n=N)\n",
    "rvN1 = norm(m1,s1)\n",
    "randN1 = rvN1.ppf(sample02)\n",
    "\n",
    "fig, ax = plt.subplots(1, 1)\n",
    "ax.hist(randN1, density=True, histtype='stepfilled', alpha=0.2)\n",
    "ax.legend(loc='best', frameon=False)\n",
    "plt.show()\n",
    "pass\n"
   ]
  },
  {
   "cell_type": "code",
   "execution_count": 986,
   "metadata": {},
   "outputs": [
    {
     "name": "stderr",
     "output_type": "stream",
     "text": [
      "No handles with labels found to put in legend.\n"
     ]
    },
    {
     "data": {
      "image/png": "[encoded data removed]",
      "text/plain": [
       "<Figure size 432x288 with 1 Axes>"
      ]
     },
     "metadata": {
      "needs_background": "light"
     },
     "output_type": "display_data"
    }
   ],
   "source": [
    "# Normal random variates with LHS: \n",
    "# raw material unit cost\n",
    "\n",
    "m2, s2 = 13.0, 1.4\n",
    "\n",
    "sampler02 = qmc.LatinHypercube(d=1, seed=44)    # d = dimension\n",
    "sample02 = sampler02.random(n=N)\n",
    "rvN2 = norm(m2,s2)\n",
    "randN2 = rvN2.ppf(sample02)\n",
    "\n",
    "fig, ax = plt.subplots(1, 1)\n",
    "ax.hist(randN2, density=True, histtype='stepfilled', alpha=0.2)\n",
    "ax.legend(loc='best', frameon=False)\n",
    "plt.show()\n",
    "pass\n"
   ]
  },
  {
   "cell_type": "markdown",
   "metadata": {},
   "source": [
    "# Simulation Model 1: Sums and Products of Random Variates"
   ]
  },
  {
   "cell_type": "code",
   "execution_count": 987,
   "metadata": {},
   "outputs": [],
   "source": [
    "def dist_properties(data):\n",
    "\n",
    "    # moments\n",
    "    mean = data.mean()\n",
    "    s = data.std()\n",
    "    min = data.min()\n",
    "    max = data.max()\n",
    "    skew = np.asscalar(stats.skew(data))\n",
    "    kurt = np.asscalar(stats.kurtosis(data))\n",
    "\n",
    "    moment_names = [\"mean\", \"std\", \"min\", \"max\", \"skew\", \"kurt\"]\n",
    "    moments = [mean,s,min,max,skew,kurt]\n",
    "    dict_moments = dict(zip(moment_names, moments))\n",
    "    _ = [print(k,\":\",f'{v:.3f}') for k,v in dict_moments.items()]\n",
    "\n",
    "\n",
    "    # quantiles\n",
    "    q1 = np.array([0.001, 0.01, 0.99, 0.999])\n",
    "    q2 = np.arange(0.05, 0.95, 0.05)\n",
    "    q = np.concatenate((q1,q2))\n",
    "    q.sort()\n",
    "    xq = np.quantile(data, q)\n",
    "    \n",
    "    qstr = [str(f'{v:.3f}') for v in q]\n",
    "    dict_quantiles = dict(zip(qstr, xq))\n",
    "    print(\"\\nquantiles:\")\n",
    "    _ = [print(q,\":\",f'{xq:,.0f}') for q,xq in dict_quantiles.items()]\n",
    "\n",
    "\n",
    "    # moments & quantiles\n",
    "    metric_names = moment_names.extend(q)\n",
    "    metrics = moments.extend(xq)\n",
    "    dict_metrics = {**dict_moments, **dict_quantiles}\n",
    "    return dict_metrics\n"
   ]
  },
  {
   "cell_type": "code",
   "execution_count": 988,
   "metadata": {},
   "outputs": [],
   "source": [
    "v = randP           # array of random variates representing the sales volume\n",
    "p = randN1          # random array for selling price\n",
    "m = randN2          # random array for material unit cost\n",
    "o = 3.0             #other unit cost, deterministic"
   ]
  },
  {
   "cell_type": "code",
   "execution_count": 989,
   "metadata": {},
   "outputs": [
    {
     "name": "stderr",
     "output_type": "stream",
     "text": [
      "No handles with labels found to put in legend.\n"
     ]
    },
    {
     "data": {
      "image/png": "[encoded data removed]",
      "text/plain": [
       "<Figure size 432x288 with 1 Axes>"
      ]
     },
     "metadata": {
      "needs_background": "light"
     },
     "output_type": "display_data"
    }
   ],
   "source": [
    "# The target variable of the simulation mode\n",
    "# gross profit = volume * (price - material unit cost - other unit cost) \n",
    "\n",
    "randGP = v * (p - m - o)\n",
    "\n",
    "fig, ax = plt.subplots(1, 1)\n",
    "ax.hist(randGP, density=True, histtype='stepfilled', alpha=0.2)\n",
    "ax.legend(loc='best', frameon=False)\n",
    "plt.show()\n",
    "pass\n",
    "\n",
    "\n",
    "randR = v * p\n"
   ]
  },
  {
   "cell_type": "code",
   "execution_count": 990,
   "metadata": {},
   "outputs": [
    {
     "name": "stderr",
     "output_type": "stream",
     "text": [
      "No handles with labels found to put in legend.\n"
     ]
    },
    {
     "data": {
      "image/png": "[encoded data removed]",
      "text/plain": [
       "<Figure size 432x288 with 1 Axes>"
      ]
     },
     "metadata": {
      "needs_background": "light"
     },
     "output_type": "display_data"
    }
   ],
   "source": [
    "# secondary target variable of the simulation mode\n",
    "# revenues\n",
    "\n",
    "randR = v * p\n",
    "\n",
    "fig, ax = plt.subplots(1, 1)\n",
    "ax.hist(randGP, density=True, histtype='stepfilled', alpha=0.2)\n",
    "ax.legend(loc='best', frameon=False)\n",
    "plt.show()\n",
    "pass"
   ]
  },
  {
   "cell_type": "code",
   "execution_count": 991,
   "metadata": {},
   "outputs": [
    {
     "name": "stdout",
     "output_type": "stream",
     "text": [
      "mean : 49250.197\n",
      "std : 31099.637\n",
      "min : -77986.549\n",
      "max : 197206.000\n",
      "skew : 0.121\n",
      "kurt : 0.220\n",
      "\n",
      "quantiles:\n",
      "0.001 : -44,760\n",
      "0.010 : -22,702\n",
      "0.050 : -716\n",
      "0.100 : 10,731\n",
      "0.150 : 17,715\n",
      "0.200 : 23,171\n",
      "0.250 : 28,502\n",
      "0.300 : 32,885\n",
      "0.350 : 36,967\n",
      "0.400 : 40,922\n",
      "0.450 : 44,404\n",
      "0.500 : 48,507\n",
      "0.550 : 52,454\n",
      "0.600 : 56,296\n",
      "0.650 : 60,549\n",
      "0.700 : 64,858\n",
      "0.750 : 69,288\n",
      "0.800 : 74,944\n",
      "0.850 : 81,321\n",
      "0.900 : 88,847\n",
      "0.990 : 125,788\n",
      "0.999 : 151,089\n"
     ]
    }
   ],
   "source": [
    "# get the properties of the GP array\n",
    "GP_metrics = dist_properties(randGP)"
   ]
  },
  {
   "cell_type": "markdown",
   "metadata": {},
   "source": [
    "# Simulation 2: Nested Random Variables"
   ]
  },
  {
   "cell_type": "code",
   "execution_count": 992,
   "metadata": {},
   "outputs": [],
   "source": [
    "# Weibull shape parameter:\n",
    "shp_m, shp_s = 1.5, 0.1                 # Weibull shape parameter: normally distributed\n",
    "scl_min, scl_mode, scl_max, scl_lmb = 45000, 50000, 60000, 8.0  # weibull scale parameter: PERT 3-point-estimate"
   ]
  },
  {
   "cell_type": "code",
   "execution_count": 993,
   "metadata": {},
   "outputs": [],
   "source": [
    "# generate 10,000 normal random variates \n",
    "\n",
    "def wei_shp(mean,std):\n",
    "    sampler = qmc.LatinHypercube(d=1, seed=42)    # d = dimension\n",
    "    sample = sampler.random(n=N)\n",
    "\n",
    "    rv = norm(mean, std)\n",
    "    rand = rv.ppf(sample)\n",
    "    return rand"
   ]
  },
  {
   "cell_type": "code",
   "execution_count": 994,
   "metadata": {},
   "outputs": [],
   "source": [
    "# generate 10,000 PERT random numbers\n",
    "\n",
    "def wei_charlife(min,mode,max,lmb):\n",
    "    sampler = qmc.LatinHypercube(d=1, seed=42)    # d = dimension\n",
    "    sample = sampler.random(n=N)\n",
    " \n",
    "    pertm = pertm_gen(name=\"pertm\")\n",
    "    rv = pertm(min, mode, max, lmb)\n",
    "    rand = rv.ppf(sample)\n",
    "    return rand\n",
    "    "
   ]
  },
  {
   "cell_type": "code",
   "execution_count": 995,
   "metadata": {},
   "outputs": [
    {
     "name": "stderr",
     "output_type": "stream",
     "text": [
      "No handles with labels found to put in legend.\n"
     ]
    },
    {
     "data": {
      "image/png": "[encoded data removed]",
      "text/plain": [
       "<Figure size 432x288 with 1 Axes>"
      ]
     },
     "metadata": {
      "needs_background": "light"
     },
     "output_type": "display_data"
    }
   ],
   "source": [
    "# Weibull_Min random variates with LHS\n",
    "\n",
    "loc = 0.0\n",
    "\n",
    "sampler4 = qmc.LatinHypercube(d=1, seed=48)    # d = dimension\n",
    "sample4 = sampler4.random(n=N)\n",
    "rand_CL = weibull_min.ppf(sample4, wei_shp(shp_m, shp_s), loc, wei_charlife(scl_min, scl_mode, scl_max, scl_lmb))\n",
    "\n",
    "\n",
    "fig, ax = plt.subplots(1, 1)\n",
    "ax.hist(rand_CL, density=True, histtype='stepfilled', alpha=0.2)\n",
    "ax.legend(loc='best', frameon=False)\n",
    "plt.show()\n",
    "pass\n"
   ]
  },
  {
   "cell_type": "code",
   "execution_count": 996,
   "metadata": {},
   "outputs": [
    {
     "name": "stdout",
     "output_type": "stream",
     "text": [
      "mean : 45647.116\n",
      "std : 31145.403\n",
      "min : 70.807\n",
      "max : 282732.985\n",
      "skew : 1.092\n",
      "kurt : 1.615\n",
      "\n",
      "quantiles:\n",
      "0.001 : 444\n",
      "0.010 : 2,273\n",
      "0.050 : 6,814\n",
      "0.100 : 11,076\n",
      "0.150 : 14,945\n",
      "0.200 : 18,389\n",
      "0.250 : 21,728\n",
      "0.300 : 25,255\n",
      "0.350 : 28,812\n",
      "0.400 : 32,169\n",
      "0.450 : 35,874\n",
      "0.500 : 39,832\n",
      "0.550 : 43,555\n",
      "0.600 : 47,822\n",
      "0.650 : 52,212\n",
      "0.700 : 57,461\n",
      "0.750 : 62,893\n",
      "0.800 : 69,516\n",
      "0.850 : 77,651\n",
      "0.900 : 88,094\n",
      "0.990 : 139,818\n",
      "0.999 : 184,118\n"
     ]
    }
   ],
   "source": [
    "# properties of the simulation results\n",
    "flexWeib = dist_properties(rand_CL)"
   ]
  },
  {
   "cell_type": "code",
   "execution_count": 997,
   "metadata": {},
   "outputs": [
    {
     "data": {
      "image/png": "[encoded data removed]",
      "text/plain": [
       "<Figure size 432x288 with 1 Axes>"
      ]
     },
     "metadata": {
      "needs_background": "light"
     },
     "output_type": "display_data"
    }
   ],
   "source": [
    "# create a distribution object from the simulated output variable by using rv_histogram\n",
    "\n",
    "data = rand_CL\n",
    "hist = np.histogram(data, bins=100)\n",
    "histdist = rv_histogram(hist)\n",
    "\n",
    "X = np.linspace(data.min(), data.max(), 100)\n",
    "plt.title(\"PDF from Template\")\n",
    "plt.hist(data, density=True, bins=100)\n",
    "plt.plot(X, histdist.pdf(X), label='PDF')\n",
    "plt.show()\n"
   ]
  },
  {
   "cell_type": "code",
   "execution_count": 998,
   "metadata": {},
   "outputs": [],
   "source": [
    "# histogram-based probability distribution\n",
    "\n",
    "def histdist_properties(histdist):\n",
    "    \n",
    "    # moments\n",
    "    mean = histdist.mean()\n",
    "    s = histdist.std()\n",
    "    median = histdist.median()\n",
    "    min = histdist.support()[0]\n",
    "    max = histdist.support()[1]\n",
    "    stats =histdist.stats()\n",
    "\n",
    "    metric_names = [\"mean\", \"std\", \"median\", \"min\", \"max\"]\n",
    "    metrics = [mean, s, median, min, max]\n",
    "    dict_metrics = dict(zip(metric_names, metrics))\n",
    "    print(\"histogram-based probability distribution:\")\n",
    "    _ = [print(k,\":\",f'{v:.3f}') for k,v in dict_metrics.items()]\n",
    "\n",
    "\n",
    "    # choose some probabilities of interest\n",
    "    q1 = np.array([0.001, 0.01, 0.99, 0.999])\n",
    "    q2 = np.arange(0.05, 0.95, 0.05)\n",
    "    q = np.concatenate((q1,q2))\n",
    "    q.sort()\n",
    "    q\n",
    "\n",
    "    # we can generate some random variables\n",
    "    randH = histdist.rvs(size=len(q))\n",
    "\n",
    "    # calculate quantiles, cdf and pdf at selected points\n",
    "    ppf_res = histdist.ppf(q)\n",
    "    pdf_res = histdist.pdf(ppf_res)\n",
    "    cdf_res = histdist.cdf(ppf_res)\n",
    "    pd.options.display.float_format = '{:,.3f}'.format\n",
    "    dfH = pd.DataFrame()\n",
    "    dfH[\"metrics\"] = q\n",
    "    dfH[\"quantiles\"] = ppf_res\n",
    "    dfH[\"cdf\"] = cdf_res\n",
    "    dfH[\"rand.variates\"] = randH\n",
    "    \n",
    "    return dfH\n"
   ]
  },
  {
   "cell_type": "code",
   "execution_count": 999,
   "metadata": {},
   "outputs": [
    {
     "name": "stdout",
     "output_type": "stream",
     "text": [
      "histogram-based probability distribution:\n",
      "mean : 45656.585\n",
      "std : 31159.544\n",
      "median : 39832.964\n",
      "min : 70.807\n",
      "max : 282732.985\n"
     ]
    },
    {
     "data": {
      "text/html": [
       "<div>\n",
       "<style scoped>\n",
       "    .dataframe tbody tr th:only-of-type {\n",
       "        vertical-align: middle;\n",
       "    }\n",
       "\n",
       "    .dataframe tbody tr th {\n",
       "        vertical-align: top;\n",
       "    }\n",
       "\n",
       "    .dataframe thead th {\n",
       "        text-align: right;\n",
       "    }\n",
       "</style>\n",
       "<table border=\"1\" class=\"dataframe\">\n",
       "  <thead>\n",
       "    <tr style=\"text-align: right;\">\n",
       "      <th></th>\n",
       "      <th>metrics</th>\n",
       "      <th>quantiles</th>\n",
       "      <th>cdf</th>\n",
       "      <th>rand.variates</th>\n",
       "    </tr>\n",
       "  </thead>\n",
       "  <tbody>\n",
       "    <tr>\n",
       "      <th>0</th>\n",
       "      <td>0.001</td>\n",
       "      <td>261.795</td>\n",
       "      <td>0.001</td>\n",
       "      <td>6,196.965</td>\n",
       "    </tr>\n",
       "    <tr>\n",
       "      <th>1</th>\n",
       "      <td>0.010</td>\n",
       "      <td>1,980.687</td>\n",
       "      <td>0.010</td>\n",
       "      <td>23,981.120</td>\n",
       "    </tr>\n",
       "    <tr>\n",
       "      <th>2</th>\n",
       "      <td>0.050</td>\n",
       "      <td>6,784.034</td>\n",
       "      <td>0.050</td>\n",
       "      <td>90,447.488</td>\n",
       "    </tr>\n",
       "    <tr>\n",
       "      <th>3</th>\n",
       "      <td>0.100</td>\n",
       "      <td>11,058.802</td>\n",
       "      <td>0.100</td>\n",
       "      <td>5,516.570</td>\n",
       "    </tr>\n",
       "    <tr>\n",
       "      <th>4</th>\n",
       "      <td>0.150</td>\n",
       "      <td>14,890.276</td>\n",
       "      <td>0.150</td>\n",
       "      <td>32,061.382</td>\n",
       "    </tr>\n",
       "    <tr>\n",
       "      <th>5</th>\n",
       "      <td>0.200</td>\n",
       "      <td>18,423.943</td>\n",
       "      <td>0.200</td>\n",
       "      <td>22,708.112</td>\n",
       "    </tr>\n",
       "    <tr>\n",
       "      <th>6</th>\n",
       "      <td>0.250</td>\n",
       "      <td>21,844.191</td>\n",
       "      <td>0.250</td>\n",
       "      <td>52,426.717</td>\n",
       "    </tr>\n",
       "    <tr>\n",
       "      <th>7</th>\n",
       "      <td>0.300</td>\n",
       "      <td>25,316.419</td>\n",
       "      <td>0.300</td>\n",
       "      <td>23,198.160</td>\n",
       "    </tr>\n",
       "    <tr>\n",
       "      <th>8</th>\n",
       "      <td>0.350</td>\n",
       "      <td>28,816.231</td>\n",
       "      <td>0.350</td>\n",
       "      <td>46,429.685</td>\n",
       "    </tr>\n",
       "    <tr>\n",
       "      <th>9</th>\n",
       "      <td>0.400</td>\n",
       "      <td>32,314.181</td>\n",
       "      <td>0.400</td>\n",
       "      <td>24,612.830</td>\n",
       "    </tr>\n",
       "    <tr>\n",
       "      <th>10</th>\n",
       "      <td>0.450</td>\n",
       "      <td>35,865.214</td>\n",
       "      <td>0.450</td>\n",
       "      <td>17,028.350</td>\n",
       "    </tr>\n",
       "    <tr>\n",
       "      <th>11</th>\n",
       "      <td>0.500</td>\n",
       "      <td>39,832.964</td>\n",
       "      <td>0.500</td>\n",
       "      <td>69,643.560</td>\n",
       "    </tr>\n",
       "    <tr>\n",
       "      <th>12</th>\n",
       "      <td>0.550</td>\n",
       "      <td>43,690.720</td>\n",
       "      <td>0.550</td>\n",
       "      <td>56,843.076</td>\n",
       "    </tr>\n",
       "    <tr>\n",
       "      <th>13</th>\n",
       "      <td>0.600</td>\n",
       "      <td>47,820.525</td>\n",
       "      <td>0.600</td>\n",
       "      <td>36,909.894</td>\n",
       "    </tr>\n",
       "    <tr>\n",
       "      <th>14</th>\n",
       "      <td>0.650</td>\n",
       "      <td>52,222.500</td>\n",
       "      <td>0.650</td>\n",
       "      <td>6,715.286</td>\n",
       "    </tr>\n",
       "    <tr>\n",
       "      <th>15</th>\n",
       "      <td>0.700</td>\n",
       "      <td>57,394.275</td>\n",
       "      <td>0.700</td>\n",
       "      <td>30,142.247</td>\n",
       "    </tr>\n",
       "    <tr>\n",
       "      <th>16</th>\n",
       "      <td>0.750</td>\n",
       "      <td>62,995.940</td>\n",
       "      <td>0.750</td>\n",
       "      <td>39,783.960</td>\n",
       "    </tr>\n",
       "    <tr>\n",
       "      <th>17</th>\n",
       "      <td>0.800</td>\n",
       "      <td>69,551.455</td>\n",
       "      <td>0.800</td>\n",
       "      <td>21,606.476</td>\n",
       "    </tr>\n",
       "    <tr>\n",
       "      <th>18</th>\n",
       "      <td>0.850</td>\n",
       "      <td>77,611.425</td>\n",
       "      <td>0.850</td>\n",
       "      <td>83,465.736</td>\n",
       "    </tr>\n",
       "    <tr>\n",
       "      <th>19</th>\n",
       "      <td>0.900</td>\n",
       "      <td>88,080.283</td>\n",
       "      <td>0.900</td>\n",
       "      <td>87,395.456</td>\n",
       "    </tr>\n",
       "    <tr>\n",
       "      <th>20</th>\n",
       "      <td>0.990</td>\n",
       "      <td>140,097.302</td>\n",
       "      <td>0.990</td>\n",
       "      <td>44,079.772</td>\n",
       "    </tr>\n",
       "    <tr>\n",
       "      <th>21</th>\n",
       "      <td>0.999</td>\n",
       "      <td>184,743.430</td>\n",
       "      <td>0.999</td>\n",
       "      <td>12,740.504</td>\n",
       "    </tr>\n",
       "  </tbody>\n",
       "</table>\n",
       "</div>"
      ],
      "text/plain": [
       "    metrics   quantiles   cdf  rand.variates\n",
       "0     0.001     261.795 0.001      6,196.965\n",
       "1     0.010   1,980.687 0.010     23,981.120\n",
       "2     0.050   6,784.034 0.050     90,447.488\n",
       "3     0.100  11,058.802 0.100      5,516.570\n",
       "4     0.150  14,890.276 0.150     32,061.382\n",
       "5     0.200  18,423.943 0.200     22,708.112\n",
       "6     0.250  21,844.191 0.250     52,426.717\n",
       "7     0.300  25,316.419 0.300     23,198.160\n",
       "8     0.350  28,816.231 0.350     46,429.685\n",
       "9     0.400  32,314.181 0.400     24,612.830\n",
       "10    0.450  35,865.214 0.450     17,028.350\n",
       "11    0.500  39,832.964 0.500     69,643.560\n",
       "12    0.550  43,690.720 0.550     56,843.076\n",
       "13    0.600  47,820.525 0.600     36,909.894\n",
       "14    0.650  52,222.500 0.650      6,715.286\n",
       "15    0.700  57,394.275 0.700     30,142.247\n",
       "16    0.750  62,995.940 0.750     39,783.960\n",
       "17    0.800  69,551.455 0.800     21,606.476\n",
       "18    0.850  77,611.425 0.850     83,465.736\n",
       "19    0.900  88,080.283 0.900     87,395.456\n",
       "20    0.990 140,097.302 0.990     44,079.772\n",
       "21    0.999 184,743.430 0.999     12,740.504"
      ]
     },
     "execution_count": 999,
     "metadata": {},
     "output_type": "execute_result"
    }
   ],
   "source": [
    "histdist_properties(histdist)"
   ]
  },
  {
   "cell_type": "code",
   "execution_count": 1000,
   "metadata": {},
   "outputs": [
    {
     "name": "stderr",
     "output_type": "stream",
     "text": [
      "No handles with labels found to put in legend.\n"
     ]
    },
    {
     "data": {
      "image/png": "[encoded data removed]",
      "text/plain": [
       "<Figure size 432x288 with 1 Axes>"
      ]
     },
     "metadata": {
      "needs_background": "light"
     },
     "output_type": "display_data"
    }
   ],
   "source": [
    "# Weibull_Min with fixed parameters\n",
    "\n",
    "loc2 = loc\n",
    "shp2 = shp_m\n",
    "scl2 = rand_CL.mean()\n",
    "\n",
    "rand_fix = weibull_min.ppf(sample4, shp2, loc2, scl2)\n",
    "\n",
    "\n",
    "fig, ax = plt.subplots(1, 1)\n",
    "ax.hist(rand_fix, density=True, histtype='stepfilled', alpha=0.2)\n",
    "ax.legend(loc='best', frameon=False)\n",
    "plt.show()\n",
    "pass\n"
   ]
  },
  {
   "cell_type": "code",
   "execution_count": 1001,
   "metadata": {},
   "outputs": [
    {
     "name": "stdout",
     "output_type": "stream",
     "text": [
      "mean : 41209.511\n",
      "std : 27992.097\n",
      "min : 54.426\n",
      "max : 241361.266\n",
      "skew : 1.080\n",
      "kurt : 1.475\n",
      "\n",
      "quantiles:\n",
      "0.001 : 467\n",
      "0.010 : 2,137\n",
      "0.050 : 6,302\n",
      "0.100 : 10,183\n",
      "0.150 : 13,597\n",
      "0.200 : 16,796\n",
      "0.250 : 19,896\n",
      "0.300 : 22,958\n",
      "0.350 : 26,038\n",
      "0.400 : 29,172\n",
      "0.450 : 32,395\n",
      "0.500 : 35,754\n",
      "0.550 : 39,287\n",
      "0.600 : 43,062\n",
      "0.650 : 47,150\n",
      "0.700 : 51,655\n",
      "0.750 : 56,751\n",
      "0.800 : 62,682\n",
      "0.850 : 69,951\n",
      "0.900 : 79,583\n",
      "0.990 : 126,199\n",
      "0.999 : 164,637\n"
     ]
    }
   ],
   "source": [
    "# properties of the simulation results\n",
    "fixWeib = dist_properties(rand_fix)"
   ]
  },
  {
   "cell_type": "code",
   "execution_count": 1002,
   "metadata": {},
   "outputs": [
    {
     "name": "stdout",
     "output_type": "stream",
     "text": [
      "\n",
      "Compare the Weibull with fixed parameters and the Weibull with stochastic parameters:\n"
     ]
    },
    {
     "data": {
      "text/html": [
       "<div>\n",
       "<style scoped>\n",
       "    .dataframe tbody tr th:only-of-type {\n",
       "        vertical-align: middle;\n",
       "    }\n",
       "\n",
       "    .dataframe tbody tr th {\n",
       "        vertical-align: top;\n",
       "    }\n",
       "\n",
       "    .dataframe thead th {\n",
       "        text-align: right;\n",
       "    }\n",
       "</style>\n",
       "<table border=\"1\" class=\"dataframe\">\n",
       "  <thead>\n",
       "    <tr style=\"text-align: right;\">\n",
       "      <th></th>\n",
       "      <th>metrics</th>\n",
       "      <th>fix Weibull</th>\n",
       "      <th>flex Weibull</th>\n",
       "    </tr>\n",
       "  </thead>\n",
       "  <tbody>\n",
       "    <tr>\n",
       "      <th>0</th>\n",
       "      <td>mean</td>\n",
       "      <td>41,209.511</td>\n",
       "      <td>45,647.116</td>\n",
       "    </tr>\n",
       "    <tr>\n",
       "      <th>1</th>\n",
       "      <td>std</td>\n",
       "      <td>27,992.097</td>\n",
       "      <td>31,145.403</td>\n",
       "    </tr>\n",
       "    <tr>\n",
       "      <th>2</th>\n",
       "      <td>min</td>\n",
       "      <td>54.426</td>\n",
       "      <td>70.807</td>\n",
       "    </tr>\n",
       "    <tr>\n",
       "      <th>3</th>\n",
       "      <td>max</td>\n",
       "      <td>241,361.266</td>\n",
       "      <td>282,732.985</td>\n",
       "    </tr>\n",
       "    <tr>\n",
       "      <th>4</th>\n",
       "      <td>skew</td>\n",
       "      <td>1.080</td>\n",
       "      <td>1.092</td>\n",
       "    </tr>\n",
       "    <tr>\n",
       "      <th>5</th>\n",
       "      <td>kurt</td>\n",
       "      <td>1.475</td>\n",
       "      <td>1.615</td>\n",
       "    </tr>\n",
       "    <tr>\n",
       "      <th>6</th>\n",
       "      <td>0.001</td>\n",
       "      <td>467.004</td>\n",
       "      <td>443.621</td>\n",
       "    </tr>\n",
       "    <tr>\n",
       "      <th>7</th>\n",
       "      <td>0.010</td>\n",
       "      <td>2,137.196</td>\n",
       "      <td>2,272.597</td>\n",
       "    </tr>\n",
       "    <tr>\n",
       "      <th>8</th>\n",
       "      <td>0.050</td>\n",
       "      <td>6,302.066</td>\n",
       "      <td>6,813.920</td>\n",
       "    </tr>\n",
       "    <tr>\n",
       "      <th>9</th>\n",
       "      <td>0.100</td>\n",
       "      <td>10,183.216</td>\n",
       "      <td>11,075.830</td>\n",
       "    </tr>\n",
       "    <tr>\n",
       "      <th>10</th>\n",
       "      <td>0.150</td>\n",
       "      <td>13,597.010</td>\n",
       "      <td>14,945.000</td>\n",
       "    </tr>\n",
       "    <tr>\n",
       "      <th>11</th>\n",
       "      <td>0.200</td>\n",
       "      <td>16,795.753</td>\n",
       "      <td>18,388.969</td>\n",
       "    </tr>\n",
       "    <tr>\n",
       "      <th>12</th>\n",
       "      <td>0.250</td>\n",
       "      <td>19,895.537</td>\n",
       "      <td>21,728.286</td>\n",
       "    </tr>\n",
       "    <tr>\n",
       "      <th>13</th>\n",
       "      <td>0.300</td>\n",
       "      <td>22,957.854</td>\n",
       "      <td>25,254.802</td>\n",
       "    </tr>\n",
       "    <tr>\n",
       "      <th>14</th>\n",
       "      <td>0.350</td>\n",
       "      <td>26,037.759</td>\n",
       "      <td>28,812.020</td>\n",
       "    </tr>\n",
       "    <tr>\n",
       "      <th>15</th>\n",
       "      <td>0.400</td>\n",
       "      <td>29,171.723</td>\n",
       "      <td>32,168.988</td>\n",
       "    </tr>\n",
       "    <tr>\n",
       "      <th>16</th>\n",
       "      <td>0.450</td>\n",
       "      <td>32,395.064</td>\n",
       "      <td>35,873.938</td>\n",
       "    </tr>\n",
       "    <tr>\n",
       "      <th>17</th>\n",
       "      <td>0.500</td>\n",
       "      <td>35,753.648</td>\n",
       "      <td>39,831.684</td>\n",
       "    </tr>\n",
       "    <tr>\n",
       "      <th>18</th>\n",
       "      <td>0.550</td>\n",
       "      <td>39,286.922</td>\n",
       "      <td>43,555.134</td>\n",
       "    </tr>\n",
       "    <tr>\n",
       "      <th>19</th>\n",
       "      <td>0.600</td>\n",
       "      <td>43,061.983</td>\n",
       "      <td>47,821.749</td>\n",
       "    </tr>\n",
       "    <tr>\n",
       "      <th>20</th>\n",
       "      <td>0.650</td>\n",
       "      <td>47,150.396</td>\n",
       "      <td>52,211.945</td>\n",
       "    </tr>\n",
       "    <tr>\n",
       "      <th>21</th>\n",
       "      <td>0.700</td>\n",
       "      <td>51,654.688</td>\n",
       "      <td>57,461.333</td>\n",
       "    </tr>\n",
       "    <tr>\n",
       "      <th>22</th>\n",
       "      <td>0.750</td>\n",
       "      <td>56,751.190</td>\n",
       "      <td>62,892.844</td>\n",
       "    </tr>\n",
       "    <tr>\n",
       "      <th>23</th>\n",
       "      <td>0.800</td>\n",
       "      <td>62,682.197</td>\n",
       "      <td>69,516.033</td>\n",
       "    </tr>\n",
       "    <tr>\n",
       "      <th>24</th>\n",
       "      <td>0.850</td>\n",
       "      <td>69,951.232</td>\n",
       "      <td>77,651.141</td>\n",
       "    </tr>\n",
       "    <tr>\n",
       "      <th>25</th>\n",
       "      <td>0.900</td>\n",
       "      <td>79,582.805</td>\n",
       "      <td>88,093.707</td>\n",
       "    </tr>\n",
       "    <tr>\n",
       "      <th>26</th>\n",
       "      <td>0.990</td>\n",
       "      <td>126,198.797</td>\n",
       "      <td>139,818.356</td>\n",
       "    </tr>\n",
       "    <tr>\n",
       "      <th>27</th>\n",
       "      <td>0.999</td>\n",
       "      <td>164,637.403</td>\n",
       "      <td>184,118.406</td>\n",
       "    </tr>\n",
       "  </tbody>\n",
       "</table>\n",
       "</div>"
      ],
      "text/plain": [
       "   metrics  fix Weibull  flex Weibull\n",
       "0     mean   41,209.511    45,647.116\n",
       "1      std   27,992.097    31,145.403\n",
       "2      min       54.426        70.807\n",
       "3      max  241,361.266   282,732.985\n",
       "4     skew        1.080         1.092\n",
       "5     kurt        1.475         1.615\n",
       "6    0.001      467.004       443.621\n",
       "7    0.010    2,137.196     2,272.597\n",
       "8    0.050    6,302.066     6,813.920\n",
       "9    0.100   10,183.216    11,075.830\n",
       "10   0.150   13,597.010    14,945.000\n",
       "11   0.200   16,795.753    18,388.969\n",
       "12   0.250   19,895.537    21,728.286\n",
       "13   0.300   22,957.854    25,254.802\n",
       "14   0.350   26,037.759    28,812.020\n",
       "15   0.400   29,171.723    32,168.988\n",
       "16   0.450   32,395.064    35,873.938\n",
       "17   0.500   35,753.648    39,831.684\n",
       "18   0.550   39,286.922    43,555.134\n",
       "19   0.600   43,061.983    47,821.749\n",
       "20   0.650   47,150.396    52,211.945\n",
       "21   0.700   51,654.688    57,461.333\n",
       "22   0.750   56,751.190    62,892.844\n",
       "23   0.800   62,682.197    69,516.033\n",
       "24   0.850   69,951.232    77,651.141\n",
       "25   0.900   79,582.805    88,093.707\n",
       "26   0.990  126,198.797   139,818.356\n",
       "27   0.999  164,637.403   184,118.406"
      ]
     },
     "execution_count": 1002,
     "metadata": {},
     "output_type": "execute_result"
    }
   ],
   "source": [
    "print(\"\\nCompare the Weibull with fixed parameters and the Weibull with stochastic parameters:\")\n",
    "pd.options.display.float_format = '{:,.3f}'.format\n",
    "df = pd.DataFrame(index=range(len(fixWeib)))\n",
    "df[\"metrics\"] = fixWeib.keys()\n",
    "df[\"fix Weibull\"] = fixWeib.values()\n",
    "df[\"flex Weibull\"] = flexWeib.values()\n",
    "df"
   ]
  }
 ],
 "metadata": {
  "interpreter": {
   "hash": "b70fa266638dda0426a5eab4dda77c10abfc338a73007e59a14299ee06b27f88"
  },
  "kernelspec": {
   "display_name": "Python 3.8.5 64-bit ('ho03': conda)",
   "name": "python3"
  },
  "language_info": {
   "codemirror_mode": {
    "name": "ipython",
    "version": 3
   },
   "file_extension": ".py",
   "mimetype": "text/x-python",
   "name": "python",
   "nbconvert_exporter": "python",
   "pygments_lexer": "ipython3",
   "version": "3.8.5"
  },
  "orig_nbformat": 4
 },
 "nbformat": 4,
 "nbformat_minor": 2
}
